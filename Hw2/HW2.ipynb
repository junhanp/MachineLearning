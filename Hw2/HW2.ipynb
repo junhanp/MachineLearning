{
 "cells": [
  {
   "cell_type": "code",
   "execution_count": 1,
   "metadata": {},
   "outputs": [],
   "source": [
    "from Bio import SeqIO\n",
    "import numpy as np\n",
    "from sklearn.manifold import MDS\n",
    "from sklearn.cluster import KMeans\n",
    "import matplotlib.pyplot as plt \n",
    "import pandas as pd"
   ]
  },
  {
   "cell_type": "code",
   "execution_count": 2,
   "metadata": {},
   "outputs": [],
   "source": [
    "def hamming_distance(s1, s2):\n",
    "    if len(s1) != len(s2):\n",
    "        raise ValueError(\"Strand lengths are not equal!\")\n",
    "    return sum(ch1 != ch2 for ch1,ch2 in zip(s1,s2))"
   ]
  },
  {
   "cell_type": "code",
   "execution_count": 3,
   "metadata": {},
   "outputs": [],
   "source": [
    "seqList=[]"
   ]
  },
  {
   "cell_type": "code",
   "execution_count": 4,
   "metadata": {},
   "outputs": [],
   "source": [
    "for record in SeqIO.parse(\"HW2.fas\", \"fasta\"):\n",
    "    seqList.append(record.seq)"
   ]
  },
  {
   "cell_type": "code",
   "execution_count": 5,
   "metadata": {},
   "outputs": [],
   "source": [
    "hdList=[]"
   ]
  },
  {
   "cell_type": "code",
   "execution_count": 6,
   "metadata": {},
   "outputs": [],
   "source": [
    "for x in seqList:\n",
    "    for y in seqList:\n",
    "        hdList.append(hamming_distance(x,y))"
   ]
  },
  {
   "cell_type": "code",
   "execution_count": 7,
   "metadata": {},
   "outputs": [
    {
     "data": {
      "text/plain": [
       "14400"
      ]
     },
     "execution_count": 7,
     "metadata": {},
     "output_type": "execute_result"
    }
   ],
   "source": [
    "len(hdList)"
   ]
  },
  {
   "cell_type": "code",
   "execution_count": 8,
   "metadata": {},
   "outputs": [
    {
     "data": {
      "text/plain": [
       "array([ 0,  1,  1, ..., 28, 28,  0])"
      ]
     },
     "execution_count": 8,
     "metadata": {},
     "output_type": "execute_result"
    }
   ],
   "source": [
    "matrix=np.array(hdList)\n",
    "matrix"
   ]
  },
  {
   "cell_type": "code",
   "execution_count": 9,
   "metadata": {},
   "outputs": [
    {
     "data": {
      "text/plain": [
       "(14400,)"
      ]
     },
     "execution_count": 9,
     "metadata": {},
     "output_type": "execute_result"
    }
   ],
   "source": [
    "matrix.shape"
   ]
  },
  {
   "cell_type": "code",
   "execution_count": 10,
   "metadata": {},
   "outputs": [],
   "source": [
    "matrix=matrix.reshape(120,120)"
   ]
  },
  {
   "cell_type": "code",
   "execution_count": 11,
   "metadata": {},
   "outputs": [
    {
     "data": {
      "text/plain": [
       "array([[ 0,  1,  1, ..., 76, 74, 79],\n",
       "       [ 1,  0,  2, ..., 77, 75, 80],\n",
       "       [ 1,  2,  0, ..., 77, 75, 80],\n",
       "       ...,\n",
       "       [76, 77, 77, ...,  0,  4, 28],\n",
       "       [74, 75, 75, ...,  4,  0, 28],\n",
       "       [79, 80, 80, ..., 28, 28,  0]])"
      ]
     },
     "execution_count": 11,
     "metadata": {},
     "output_type": "execute_result"
    }
   ],
   "source": [
    "matrix"
   ]
  },
  {
   "cell_type": "code",
   "execution_count": 12,
   "metadata": {},
   "outputs": [],
   "source": [
    "embedding=MDS(n_components = 2)"
   ]
  },
  {
   "cell_type": "code",
   "execution_count": 13,
   "metadata": {},
   "outputs": [
    {
     "name": "stderr",
     "output_type": "stream",
     "text": [
      "C:\\Users\\Juney\\Anaconda3\\lib\\site-packages\\sklearn\\manifold\\mds.py:421: UserWarning: The MDS API has changed. ``fit`` now constructs an dissimilarity matrix from data. To use a custom dissimilarity matrix, set ``dissimilarity='precomputed'``.\n",
      "  warnings.warn(\"The MDS API has changed. ``fit`` now constructs an\"\n"
     ]
    }
   ],
   "source": [
    "xtransform=embedding.fit_transform(matrix[:120])"
   ]
  },
  {
   "cell_type": "code",
   "execution_count": 14,
   "metadata": {},
   "outputs": [
    {
     "data": {
      "text/plain": [
       "(120, 2)"
      ]
     },
     "execution_count": 14,
     "metadata": {},
     "output_type": "execute_result"
    }
   ],
   "source": [
    "xtransform.shape"
   ]
  },
  {
   "cell_type": "code",
   "execution_count": 15,
   "metadata": {},
   "outputs": [
    {
     "data": {
      "text/plain": [
       "array([[ 336.21717018,  139.40752686],\n",
       "       [ 338.25587276,  141.05911055],\n",
       "       [ 338.49797387,  140.71737312],\n",
       "       [ 342.41338996,  140.03250948],\n",
       "       [ 342.27105178,  141.01730558],\n",
       "       [ 327.65043255,  135.70759135],\n",
       "       [ 338.61807982,  140.5400141 ],\n",
       "       [ 334.93867641,  144.37553733],\n",
       "       [ 338.10443632,  141.5667336 ],\n",
       "       [ 334.9887192 ,  149.65042408],\n",
       "       [ 337.50040771,  136.34222127],\n",
       "       [ 341.83227748,  141.19036268],\n",
       "       [ 332.16003933,  135.74159982],\n",
       "       [ 338.12264207,  141.22257478],\n",
       "       [ 338.37795136,  140.89058049],\n",
       "       [ 332.4019961 ,  137.73938878],\n",
       "       [ 318.17774657,  279.15373086],\n",
       "       [ 315.40943539,  284.79806639],\n",
       "       [ 310.49883246,  279.81182995],\n",
       "       [ 318.91047806,  275.56563622],\n",
       "       [ 314.86295133,  285.16771371],\n",
       "       [ 315.70391649,  284.46043971],\n",
       "       [ 315.57390027,  277.63251426],\n",
       "       [ 315.3587506 ,  281.29820653],\n",
       "       [ 308.43046049,  286.96651924],\n",
       "       [ 315.34355635,  284.68094408],\n",
       "       [ 316.08228527,  288.91389387],\n",
       "       [ 314.44742174,  275.08415142],\n",
       "       [ 305.63688618,  278.79904357],\n",
       "       [ 314.13879099,  270.57893388],\n",
       "       [ 307.69161122,  270.7514105 ],\n",
       "       [ 310.30129998,  280.19110367],\n",
       "       [ 315.58847559,  279.8325568 ],\n",
       "       [ 301.31345255,  277.60056464],\n",
       "       [ 315.64858003,  282.60461182],\n",
       "       [ 313.56736905,  285.44175016],\n",
       "       [ 305.26911398,  279.20891275],\n",
       "       [ 315.6293873 ,  284.8422978 ],\n",
       "       [ 307.62770316,  286.88879029],\n",
       "       [ 313.72461519,  261.4947599 ],\n",
       "       [ 336.01295514,  190.77543241],\n",
       "       [ 311.70317345,  283.3179049 ],\n",
       "       [-123.5723512 , -229.61648994],\n",
       "       [-129.09383428, -220.11025011],\n",
       "       [-128.8224948 , -228.790318  ],\n",
       "       [-113.90864987, -204.93896562],\n",
       "       [-120.75632486, -207.50022666],\n",
       "       [-130.47997914, -214.9822144 ],\n",
       "       [-123.40428074, -216.85874697],\n",
       "       [-124.5115173 , -219.01343547],\n",
       "       [-128.5570011 , -224.02972908],\n",
       "       [-108.67493099, -199.64090883],\n",
       "       [-135.94733364, -226.28340334],\n",
       "       [-126.88167566, -225.21599934],\n",
       "       [-135.24296372, -223.05203203],\n",
       "       [-118.54264872, -222.70795129],\n",
       "       [-129.88660142, -222.39447464],\n",
       "       [-122.01969491, -225.90294984],\n",
       "       [-121.67566551, -225.94765277],\n",
       "       [-128.23393852, -233.95086324],\n",
       "       [-121.79652331, -215.19648804],\n",
       "       [-124.71748593, -214.60268979],\n",
       "       [ -35.33283015, -260.62737865],\n",
       "       [ -37.81782536, -257.99266893],\n",
       "       [ -33.13204313, -259.9517154 ],\n",
       "       [ -32.99273649, -257.96830219],\n",
       "       [ -32.90593474, -251.97762746],\n",
       "       [ -30.77897512, -255.90502253],\n",
       "       [ -33.97754007, -246.59079251],\n",
       "       [ -30.73427791, -242.48236534],\n",
       "       [ -40.10975867, -262.66286476],\n",
       "       [ -35.64925226, -244.90499571],\n",
       "       [ -39.15284629, -256.56457349],\n",
       "       [ -28.28570263, -240.54092306],\n",
       "       [ -46.51015602, -262.9642177 ],\n",
       "       [ -33.05563327, -258.09690709],\n",
       "       [ -43.71521827, -260.12328634],\n",
       "       [ -30.68934992, -257.2673507 ],\n",
       "       [ -42.2220171 , -261.31481456],\n",
       "       [ -38.47307636, -251.41752909],\n",
       "       [ -44.80431592, -254.57002215],\n",
       "       [-280.98089883,  -30.48610316],\n",
       "       [-285.84677617,  -36.02708279],\n",
       "       [-272.76357818,   76.70745516],\n",
       "       [-286.05321502,  -30.92741906],\n",
       "       [-248.52987944,   33.93595905],\n",
       "       [-282.92009272,  -40.92582843],\n",
       "       [-283.30098741,  -45.63403637],\n",
       "       [-279.43770068,   52.3420009 ],\n",
       "       [-261.96681492,  -41.40782028],\n",
       "       [-261.90167823,   -0.5215357 ],\n",
       "       [-276.4313365 ,   57.23683836],\n",
       "       [-253.68368475,   37.33890918],\n",
       "       [-250.12749351,   37.74605668],\n",
       "       [-277.45909425,  -40.47305586],\n",
       "       [-239.57540532,  -35.19958962],\n",
       "       [-287.23797854,   53.07957868],\n",
       "       [-279.54092839,  -40.39365986],\n",
       "       [-246.83069795,  -61.37865284],\n",
       "       [-275.92682189,  -55.66088314],\n",
       "       [-255.75608146,   43.02789248],\n",
       "       [-276.49148238,   63.64688616],\n",
       "       [-276.21564329,  -34.83765091],\n",
       "       [-263.9486101 ,  -61.42460551],\n",
       "       [-292.79098421,   41.29792444],\n",
       "       [-218.82992818,   -0.78600066],\n",
       "       [-286.07784944,  -51.27146284],\n",
       "       [-279.54839198,  -46.610564  ],\n",
       "       [-279.05420631,   46.98977518],\n",
       "       [-281.83578409,  -46.83950173],\n",
       "       [-224.82869204,  -10.16191534],\n",
       "       [-286.25797858,   45.56313358],\n",
       "       [-249.0387382 ,   32.22889082],\n",
       "       [-222.88634477,   -4.70765535],\n",
       "       [-272.14795226,  -50.89606196],\n",
       "       [-255.68219311,   30.25645086],\n",
       "       [-249.80029918,   46.61044951],\n",
       "       [-276.83166066,  -55.96650298],\n",
       "       [-258.82907605,  -61.36553863],\n",
       "       [-220.57192144,  -12.50850017]])"
      ]
     },
     "execution_count": 15,
     "metadata": {},
     "output_type": "execute_result"
    }
   ],
   "source": [
    "xtransform"
   ]
  },
  {
   "cell_type": "code",
   "execution_count": 16,
   "metadata": {},
   "outputs": [
    {
     "data": {
      "text/html": [
       "<div>\n",
       "<style scoped>\n",
       "    .dataframe tbody tr th:only-of-type {\n",
       "        vertical-align: middle;\n",
       "    }\n",
       "\n",
       "    .dataframe tbody tr th {\n",
       "        vertical-align: top;\n",
       "    }\n",
       "\n",
       "    .dataframe thead th {\n",
       "        text-align: right;\n",
       "    }\n",
       "</style>\n",
       "<table border=\"1\" class=\"dataframe\">\n",
       "  <thead>\n",
       "    <tr style=\"text-align: right;\">\n",
       "      <th></th>\n",
       "      <th>0</th>\n",
       "      <th>1</th>\n",
       "    </tr>\n",
       "  </thead>\n",
       "  <tbody>\n",
       "    <tr>\n",
       "      <td>0</td>\n",
       "      <td>336.217170</td>\n",
       "      <td>139.407527</td>\n",
       "    </tr>\n",
       "    <tr>\n",
       "      <td>1</td>\n",
       "      <td>338.255873</td>\n",
       "      <td>141.059111</td>\n",
       "    </tr>\n",
       "    <tr>\n",
       "      <td>2</td>\n",
       "      <td>338.497974</td>\n",
       "      <td>140.717373</td>\n",
       "    </tr>\n",
       "    <tr>\n",
       "      <td>3</td>\n",
       "      <td>342.413390</td>\n",
       "      <td>140.032509</td>\n",
       "    </tr>\n",
       "    <tr>\n",
       "      <td>4</td>\n",
       "      <td>342.271052</td>\n",
       "      <td>141.017306</td>\n",
       "    </tr>\n",
       "    <tr>\n",
       "      <td>...</td>\n",
       "      <td>...</td>\n",
       "      <td>...</td>\n",
       "    </tr>\n",
       "    <tr>\n",
       "      <td>115</td>\n",
       "      <td>-255.682193</td>\n",
       "      <td>30.256451</td>\n",
       "    </tr>\n",
       "    <tr>\n",
       "      <td>116</td>\n",
       "      <td>-249.800299</td>\n",
       "      <td>46.610450</td>\n",
       "    </tr>\n",
       "    <tr>\n",
       "      <td>117</td>\n",
       "      <td>-276.831661</td>\n",
       "      <td>-55.966503</td>\n",
       "    </tr>\n",
       "    <tr>\n",
       "      <td>118</td>\n",
       "      <td>-258.829076</td>\n",
       "      <td>-61.365539</td>\n",
       "    </tr>\n",
       "    <tr>\n",
       "      <td>119</td>\n",
       "      <td>-220.571921</td>\n",
       "      <td>-12.508500</td>\n",
       "    </tr>\n",
       "  </tbody>\n",
       "</table>\n",
       "<p>120 rows × 2 columns</p>\n",
       "</div>"
      ],
      "text/plain": [
       "              0           1\n",
       "0    336.217170  139.407527\n",
       "1    338.255873  141.059111\n",
       "2    338.497974  140.717373\n",
       "3    342.413390  140.032509\n",
       "4    342.271052  141.017306\n",
       "..          ...         ...\n",
       "115 -255.682193   30.256451\n",
       "116 -249.800299   46.610450\n",
       "117 -276.831661  -55.966503\n",
       "118 -258.829076  -61.365539\n",
       "119 -220.571921  -12.508500\n",
       "\n",
       "[120 rows x 2 columns]"
      ]
     },
     "execution_count": 16,
     "metadata": {},
     "output_type": "execute_result"
    }
   ],
   "source": [
    "df=pd.DataFrame(xtransform)\n",
    "df"
   ]
  },
  {
   "cell_type": "code",
   "execution_count": 17,
   "metadata": {},
   "outputs": [],
   "source": [
    "x=df[0]"
   ]
  },
  {
   "cell_type": "code",
   "execution_count": 18,
   "metadata": {},
   "outputs": [],
   "source": [
    "y=df[1]"
   ]
  },
  {
   "cell_type": "code",
   "execution_count": 19,
   "metadata": {},
   "outputs": [
    {
     "data": {
      "text/plain": [
       "<matplotlib.collections.PathCollection at 0x275504c5548>"
      ]
     },
     "execution_count": 19,
     "metadata": {},
     "output_type": "execute_result"
    },
    {
     "data": {
      "image/png": "[encoded data removed]",
      "text/plain": [
       "<Figure size 432x288 with 1 Axes>"
      ]
     },
     "metadata": {
      "needs_background": "light"
     },
     "output_type": "display_data"
    }
   ],
   "source": [
    "plt.scatter(x,y)"
   ]
  },
  {
   "cell_type": "markdown",
   "metadata": {},
   "source": [
    "Estimate: K=3"
   ]
  },
  {
   "cell_type": "code",
   "execution_count": 20,
   "metadata": {},
   "outputs": [],
   "source": [
    "kmeans=KMeans(n_clusters=3, random_state=0).fit(df)"
   ]
  },
  {
   "cell_type": "code",
   "execution_count": 21,
   "metadata": {},
   "outputs": [
    {
     "data": {
      "text/plain": [
       "array([1, 1, 1, 1, 1, 1, 1, 1, 1, 1, 1, 1, 1, 1, 1, 1, 1, 1, 1, 1, 1, 1,\n",
       "       1, 1, 1, 1, 1, 1, 1, 1, 1, 1, 1, 1, 1, 1, 1, 1, 1, 1, 1, 1, 0, 0,\n",
       "       0, 0, 0, 0, 0, 0, 0, 0, 0, 0, 0, 0, 0, 0, 0, 0, 0, 0, 0, 0, 0, 0,\n",
       "       0, 0, 0, 0, 0, 0, 0, 0, 0, 0, 0, 0, 0, 0, 0, 2, 2, 2, 2, 2, 2, 2,\n",
       "       2, 2, 2, 2, 2, 2, 2, 2, 2, 2, 2, 2, 2, 2, 2, 2, 2, 2, 2, 2, 2, 2,\n",
       "       2, 2, 2, 2, 2, 2, 2, 2, 2, 2])"
      ]
     },
     "execution_count": 21,
     "metadata": {},
     "output_type": "execute_result"
    }
   ],
   "source": [
    "kmeans.labels_"
   ]
  },
  {
   "cell_type": "code",
   "execution_count": 22,
   "metadata": {},
   "outputs": [],
   "source": [
    "kmeans=kmeans.cluster_centers_"
   ]
  },
  {
   "cell_type": "code",
   "execution_count": 23,
   "metadata": {},
   "outputs": [
    {
     "data": {
      "text/html": [
       "<div>\n",
       "<style scoped>\n",
       "    .dataframe tbody tr th:only-of-type {\n",
       "        vertical-align: middle;\n",
       "    }\n",
       "\n",
       "    .dataframe tbody tr th {\n",
       "        vertical-align: top;\n",
       "    }\n",
       "\n",
       "    .dataframe thead th {\n",
       "        text-align: right;\n",
       "    }\n",
       "</style>\n",
       "<table border=\"1\" class=\"dataframe\">\n",
       "  <thead>\n",
       "    <tr style=\"text-align: right;\">\n",
       "      <th></th>\n",
       "      <th>0</th>\n",
       "      <th>1</th>\n",
       "    </tr>\n",
       "  </thead>\n",
       "  <tbody>\n",
       "    <tr>\n",
       "      <td>0</td>\n",
       "      <td>-81.719625</td>\n",
       "      <td>-237.042542</td>\n",
       "    </tr>\n",
       "    <tr>\n",
       "      <td>1</td>\n",
       "      <td>322.500102</td>\n",
       "      <td>224.834823</td>\n",
       "    </tr>\n",
       "    <tr>\n",
       "      <td>2</td>\n",
       "      <td>-265.588176</td>\n",
       "      <td>-5.087267</td>\n",
       "    </tr>\n",
       "  </tbody>\n",
       "</table>\n",
       "</div>"
      ],
      "text/plain": [
       "            0           1\n",
       "0  -81.719625 -237.042542\n",
       "1  322.500102  224.834823\n",
       "2 -265.588176   -5.087267"
      ]
     },
     "execution_count": 23,
     "metadata": {},
     "output_type": "execute_result"
    }
   ],
   "source": [
    "df=pd.DataFrame(kmeans)\n",
    "df"
   ]
  },
  {
   "cell_type": "code",
   "execution_count": 24,
   "metadata": {},
   "outputs": [],
   "source": [
    "x=df[0]"
   ]
  },
  {
   "cell_type": "code",
   "execution_count": 25,
   "metadata": {},
   "outputs": [],
   "source": [
    "y=df[1]"
   ]
  },
  {
   "cell_type": "code",
   "execution_count": 26,
   "metadata": {},
   "outputs": [
    {
     "data": {
      "text/plain": [
       "<matplotlib.collections.PathCollection at 0x2755057a9c8>"
      ]
     },
     "execution_count": 26,
     "metadata": {},
     "output_type": "execute_result"
    },
    {
     "data": {
      "image/png": "[encoded data removed]",
      "text/plain": [
       "<Figure size 432x288 with 1 Axes>"
      ]
     },
     "metadata": {
      "needs_background": "light"
     },
     "output_type": "display_data"
    }
   ],
   "source": [
    "plt.scatter(x,y, c=['red','blue','green'])"
   ]
  },
  {
   "cell_type": "code",
   "execution_count": null,
   "metadata": {},
   "outputs": [],
   "source": []
  }
 ],
 "metadata": {
  "kernelspec": {
   "display_name": "Python 3",
   "language": "python",
   "name": "python3"
  },
  "language_info": {
   "codemirror_mode": {
    "name": "ipython",
    "version": 3
   },
   "file_extension": ".py",
   "mimetype": "text/x-python",
   "name": "python",
   "nbconvert_exporter": "python",
   "pygments_lexer": "ipython3",
   "version": "3.7.4"
  }
 },
 "nbformat": 4,
 "nbformat_minor": 2
}
